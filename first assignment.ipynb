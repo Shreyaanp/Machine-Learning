{
 "cells": [
  {
   "cell_type": "code",
   "execution_count": 4,
   "metadata": {},
   "outputs": [
    {
     "name": "stdout",
     "output_type": "stream",
     "text": [
      "date             0\n",
      "precipitation    0\n",
      "temp_max         0\n",
      "temp_min         0\n",
      "wind             0\n",
      "weather          0\n",
      "dtype: int64\n"
     ]
    }
   ],
   "source": [
    "import pandas as pd\n",
    "\n",
    "# Read the data from the CSV file\n",
    "df = pd.read_csv('weather.csv')\n",
    "\n",
    "# Check for missing values\n",
    "missing_data = df.isnull().sum()\n",
    "print(missing_data)\n"
   ]
  },
  {
   "cell_type": "code",
   "execution_count": 5,
   "metadata": {},
   "outputs": [
    {
     "name": "stdout",
     "output_type": "stream",
     "text": [
      "            date  precipitation  temp_max  temp_min  wind  weather\n",
      "0     2012-01-01            0.0      12.8       5.0   4.7        0\n",
      "1     2012-01-02           10.9      10.6       2.8   4.5        2\n",
      "2     2012-01-03            0.8      11.7       7.2   2.3        2\n",
      "3     2012-01-04           20.3      12.2       5.6   4.7        2\n",
      "4     2012-01-05            1.3       8.9       2.8   6.1        2\n",
      "...          ...            ...       ...       ...   ...      ...\n",
      "1456  2015-12-27            8.6       4.4       1.7   2.9        2\n",
      "1457  2015-12-28            1.5       5.0       1.7   1.3        2\n",
      "1458  2015-12-29            0.0       7.2       0.6   2.6        1\n",
      "1459  2015-12-30            0.0       5.6      -1.0   3.4        4\n",
      "1460  2015-12-31            0.0       5.6      -2.1   3.5        4\n",
      "\n",
      "[1461 rows x 6 columns]\n"
     ]
    }
   ],
   "source": [
    "from sklearn.preprocessing import LabelEncoder\n",
    "\n",
    "encoder = LabelEncoder()\n",
    "df['weather'] = encoder.fit_transform(df['weather'])\n",
    "print(df)\n"
   ]
  },
  {
   "cell_type": "code",
   "execution_count": 6,
   "metadata": {},
   "outputs": [
    {
     "name": "stdout",
     "output_type": "stream",
     "text": [
      "Training set: (1168, 4) (1168,)\n",
      "Test set: (293, 4) (293,)\n"
     ]
    }
   ],
   "source": [
    "from sklearn.model_selection import train_test_split\n",
    "\n",
    "# Features (excluding 'date' and 'weather')\n",
    "X = df[['precipitation', 'temp_max', 'temp_min', 'wind']]\n",
    "\n",
    "# Target (weather)\n",
    "y = df['weather']\n",
    "\n",
    "# Splitting the dataset into 80% training and 20% test\n",
    "X_train, X_test, y_train, y_test = train_test_split(X, y, test_size=0.2, random_state=42)\n",
    "\n",
    "print(\"Training set:\", X_train.shape, y_train.shape)\n",
    "print(\"Test set:\", X_test.shape, y_test.shape)\n"
   ]
  },
  {
   "cell_type": "code",
   "execution_count": 7,
   "metadata": {},
   "outputs": [
    {
     "name": "stdout",
     "output_type": "stream",
     "text": [
      "Missing data: date             0\n",
      "precipitation    0\n",
      "temp_max         0\n",
      "temp_min         0\n",
      "wind             0\n",
      "weather          0\n",
      "dtype: int64\n",
      "Training set: (1168, 4) (1168,)\n",
      "Test set: (293, 4) (293,)\n"
     ]
    }
   ],
   "source": [
    "import pandas as pd\n",
    "from sklearn.model_selection import train_test_split\n",
    "from sklearn.preprocessing import LabelEncoder, StandardScaler\n",
    "\n",
    "# Read the data from the CSV file\n",
    "df = pd.read_csv('weather.csv')\n",
    "\n",
    "# Check for missing values\n",
    "missing_data = df.isnull().sum()\n",
    "print(\"Missing data:\", missing_data)\n",
    "\n",
    "# Encoding the 'weather' column\n",
    "encoder = LabelEncoder()\n",
    "df['weather'] = encoder.fit_transform(df['weather'])\n",
    "\n",
    "# Features (excluding 'date' and 'weather')\n",
    "X = df.drop(columns=['date', 'weather'])\n",
    "\n",
    "# Target (weather)\n",
    "y = df['weather']\n",
    "\n",
    "# Splitting the dataset into 80% training and 20% test\n",
    "X_train, X_test, y_train, y_test = train_test_split(X, y, test_size=0.2, random_state=42)\n",
    "\n",
    "# Feature scaling\n",
    "scaler = StandardScaler()\n",
    "X_train = scaler.fit_transform(X_train)\n",
    "X_test = scaler.transform(X_test)\n",
    "\n",
    "print(\"Training set:\", X_train.shape, y_train.shape)\n",
    "print(\"Test set:\", X_test.shape, y_test.shape)\n"
   ]
  },
  {
   "cell_type": "markdown",
   "metadata": {},
   "source": [
    "'date': This column likely contains the date of the weather observation. While it might contain valuable information for time-series analysis, in the context of a general predictive model, it's often treated as an identifier rather than a feature.\n",
    "\n",
    "'weather': This column represents the weather condition (e.g., 'rain', 'drizzle'), which is the target variable in this context. It's what you're trying to predict, so it's excluded from the features and treated separately as the target variable y."
   ]
  },
  {
   "cell_type": "code",
   "execution_count": 8,
   "metadata": {},
   "outputs": [
    {
     "name": "stdout",
     "output_type": "stream",
     "text": [
      "Feature Importance Scores: {'precipitation': 0.5230394658856935, 'temp_max': 0.18766386172188418, 'temp_min': 0.14722037138176128, 'wind': 0.14207630101066107}\n"
     ]
    },
    {
     "data": {
      "image/png": "[encoded data removed]",
      "text/plain": [
       "<Figure size 640x480 with 1 Axes>"
      ]
     },
     "metadata": {},
     "output_type": "display_data"
    },
    {
     "name": "stdout",
     "output_type": "stream",
     "text": [
      "Best Five Features: ['precipitation', 'temp_max', 'temp_min', 'wind']\n"
     ]
    }
   ],
   "source": [
    "import pandas as pd\n",
    "from sklearn.model_selection import train_test_split\n",
    "from sklearn.preprocessing import LabelEncoder, StandardScaler\n",
    "from sklearn.ensemble import RandomForestClassifier\n",
    "import matplotlib.pyplot as plt\n",
    "\n",
    "# Read the data from the CSV file\n",
    "df = pd.read_csv('weather.csv')\n",
    "\n",
    "# Encoding the 'weather' column\n",
    "encoder = LabelEncoder()\n",
    "df['weather'] = encoder.fit_transform(df['weather'])\n",
    "\n",
    "# Features (excluding 'date' and 'weather')\n",
    "X = df.drop(columns=['date', 'weather'])\n",
    "\n",
    "# Target (weather)\n",
    "y = df['weather']\n",
    "\n",
    "# Splitting the dataset\n",
    "X_train, X_test, y_train, y_test = train_test_split(X, y, test_size=0.2, random_state=42)\n",
    "\n",
    "# Feature scaling\n",
    "scaler = StandardScaler()\n",
    "X_train = scaler.fit_transform(X_train)\n",
    "X_test = scaler.transform(X_test)\n",
    "\n",
    "# Create a Random Forest Classifier\n",
    "model = RandomForestClassifier(random_state=42)\n",
    "model.fit(X_train, y_train)\n",
    "\n",
    "# Get feature importances\n",
    "importances = model.feature_importances_\n",
    "\n",
    "# Display feature importance scores\n",
    "feature_importance_dict = {name: score for name, score in zip(X.columns, importances)}\n",
    "print(\"Feature Importance Scores:\", feature_importance_dict)\n",
    "\n",
    "# Plot feature importance\n",
    "plt.bar(X.columns, importances)\n",
    "plt.title('Feature Importance')\n",
    "plt.xlabel('Features')\n",
    "plt.ylabel('Importance')\n",
    "plt.show()\n",
    "\n",
    "# Select the best five features\n",
    "best_five_features = sorted(feature_importance_dict, key=feature_importance_dict.get, reverse=True)[:5]\n",
    "print(\"Best Five Features:\", best_five_features)\n"
   ]
  },
  {
   "cell_type": "markdown",
   "metadata": {},
   "source": [
    "<H1>Information Gain</h1>"
   ]
  },
  {
   "cell_type": "code",
   "execution_count": 11,
   "metadata": {},
   "outputs": [
    {
     "name": "stdout",
     "output_type": "stream",
     "text": [
      "Feature: precipitation, Information Gain: 0.5418990104157579\n",
      "Feature: temp_max, Information Gain: 0.16110903022388373\n",
      "Feature: temp_min, Information Gain: 0.16876865690489357\n",
      "Feature: wind, Information Gain: 0.1282233024554649\n"
     ]
    }
   ],
   "source": [
    "from sklearn.tree import DecisionTreeClassifier\n",
    "\n",
    "# Create a Decision Tree Classifier with 'entropy' criterion\n",
    "tree_model = DecisionTreeClassifier(criterion='entropy', random_state=42)\n",
    "tree_model.fit(X_train, y_train)\n",
    "\n",
    "# Information Gain\n",
    "information_gain = tree_model.feature_importances_\n",
    "for feature, gain in zip(X.columns, information_gain):\n",
    "    print(f\"Feature: {feature}, Information Gain: {gain}\")\n",
    "\n"
   ]
  },
  {
   "cell_type": "markdown",
   "metadata": {},
   "source": [
    "<h1> GINI Index</h1>"
   ]
  },
  {
   "cell_type": "code",
   "execution_count": 12,
   "metadata": {},
   "outputs": [
    {
     "name": "stdout",
     "output_type": "stream",
     "text": [
      "Feature: precipitation, Gini Index: 0.5981030423195735\n",
      "Feature: temp_max, Gini Index: 0.13082168221230572\n",
      "Feature: temp_min, Gini Index: 0.15415704095758048\n",
      "Feature: wind, Gini Index: 0.11691823451054048\n"
     ]
    }
   ],
   "source": [
    "# Create a Decision Tree Classifier with 'gini' criterion\n",
    "tree_model_gini = DecisionTreeClassifier(criterion='gini', random_state=42)\n",
    "tree_model_gini.fit(X_train, y_train)\n",
    "\n",
    "# Gini Index\n",
    "gini_index = tree_model_gini.feature_importances_\n",
    "for feature, gini in zip(X.columns, gini_index):\n",
    "    print(f\"Feature: {feature}, Gini Index: {gini}\")\n"
   ]
  },
  {
   "cell_type": "markdown",
   "metadata": {},
   "source": [
    "<h1>CHI Square</h1>\n"
   ]
  },
  {
   "cell_type": "code",
   "execution_count": 15,
   "metadata": {},
   "outputs": [
    {
     "name": "stdout",
     "output_type": "stream",
     "text": [
      "Feature: precipitation, Chi-Square Score: 76.11750757052067\n",
      "Feature: temp_max, Chi-Square Score: 17.91067297391164\n",
      "Feature: temp_min, Chi-Square Score: 4.965297157780935\n",
      "Feature: wind, Chi-Square Score: 8.933721900251383\n"
     ]
    }
   ],
   "source": [
    "from sklearn.preprocessing import MinMaxScaler\n",
    "\n",
    "# Feature scaling using Min-Max scaling\n",
    "scaler = MinMaxScaler()\n",
    "X_train_scaled = scaler.fit_transform(X_train)\n",
    "X_test_scaled = scaler.transform(X_test)\n",
    "\n",
    "# Compute Chi-Square scores\n",
    "chi2_scores, _ = chi2(X_train_scaled, y_train)\n",
    "for feature, chi in zip(X.columns, chi2_scores):\n",
    "    print(f\"Feature: {feature}, Chi-Square Score: {chi}\")\n"
   ]
  },
  {
   "cell_type": "markdown",
   "metadata": {},
   "source": [
    "<h1>Pearson Correlation</h1>"
   ]
  },
  {
   "cell_type": "code",
   "execution_count": 16,
   "metadata": {},
   "outputs": [
    {
     "name": "stdout",
     "output_type": "stream",
     "text": [
      "Pearson's Correlation Matrix:\n",
      "                precipitation  temp_max  temp_min      wind\n",
      "precipitation       1.000000 -0.228555 -0.072684  0.328045\n",
      "temp_max           -0.228555  1.000000  0.875687 -0.164857\n",
      "temp_min           -0.072684  0.875687  1.000000 -0.074185\n",
      "wind                0.328045 -0.164857 -0.074185  1.000000\n"
     ]
    }
   ],
   "source": [
    "# Pearson's Correlation Matrix\n",
    "pearson_corr = X.corr()\n",
    "print(\"Pearson's Correlation Matrix:\\n\", pearson_corr)\n"
   ]
  }
 ],
 "metadata": {
  "kernelspec": {
   "display_name": "base",
   "language": "python",
   "name": "python3"
  },
  "language_info": {
   "codemirror_mode": {
    "name": "ipython",
    "version": 3
   },
   "file_extension": ".py",
   "mimetype": "text/x-python",
   "name": "python",
   "nbconvert_exporter": "python",
   "pygments_lexer": "ipython3",
   "version": "3.10.9"
  },
  "orig_nbformat": 4
 },
 "nbformat": 4,
 "nbformat_minor": 2
}
