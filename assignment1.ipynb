{
 "cells": [
  {
   "cell_type": "code",
   "execution_count": 13,
   "metadata": {},
   "outputs": [
    {
     "name": "stdout",
     "output_type": "stream",
     "text": [
      "     species\n",
      "0          0\n",
      "1          0\n",
      "2          0\n",
      "3          0\n",
      "4          0\n",
      "..       ...\n",
      "145        2\n",
      "146        2\n",
      "147        2\n",
      "148        2\n",
      "149        2\n",
      "\n",
      "[150 rows x 1 columns]\n"
     ]
    }
   ],
   "source": [
    "import pandas as pd\n",
    "from sklearn.preprocessing import LabelEncoder\n",
    "from sklearn import datasets\n",
    "\n",
    "# Load the Iris dataset\n",
    "iris = datasets.load_iris()\n",
    "X = iris.data\n",
    "y = iris.target\n",
    "\n",
    "# Create a DataFrame from the target column 'species'\n",
    "df = pd.DataFrame(data=y, columns=['species'])\n",
    "\n",
    "# Encode the 'species' column using LabelEncoder\n",
    "encoder = LabelEncoder()\n",
    "df['species'] = encoder.fit_transform(df['species'])\n",
    "\n",
    "# Print the updated DataFrame\n",
    "print(df)\n"
   ]
  },
  {
   "cell_type": "code",
   "execution_count": 14,
   "metadata": {},
   "outputs": [
    {
     "name": "stdout",
     "output_type": "stream",
     "text": [
      "Training set: (120, 2) (120,)\n",
      "Test set: (30, 2) (30,)\n"
     ]
    }
   ],
   "source": [
    "from sklearn.model_selection import train_test_split\n",
    "\n",
    "# Load the Iris dataset (assuming you already have it loaded)\n",
    "from sklearn import datasets\n",
    "iris = datasets.load_iris()\n",
    "X = iris.data\n",
    "y = iris.target\n",
    "\n",
    "# Features (selecting specific features from Iris dataset)\n",
    "X_df = pd.DataFrame(data=X, columns=iris.feature_names)\n",
    "selected_features = ['sepal length (cm)', 'sepal width (cm)']  # Replace with the features you want\n",
    "X_selected = X_df[selected_features]\n",
    "\n",
    "# Target (iris species)\n",
    "y_df = pd.DataFrame(data=y, columns=['species'])\n",
    "\n",
    "# Combine features and target into one DataFrame\n",
    "df = pd.concat([X_selected, y_df], axis=1)\n",
    "\n",
    "# Splitting the dataset into 80% training and 20% test\n",
    "X_train, X_test, y_train, y_test = train_test_split(X_selected, y, test_size=0.2, random_state=42)\n",
    "\n",
    "print(\"Training set:\", X_train.shape, y_train.shape)\n",
    "print(\"Test set:\", X_test.shape, y_test.shape)\n"
   ]
  },
  {
   "cell_type": "code",
   "execution_count": 15,
   "metadata": {},
   "outputs": [
    {
     "name": "stdout",
     "output_type": "stream",
     "text": [
      "Training set: (120, 4) (120,)\n",
      "Test set: (30, 4) (30,)\n"
     ]
    }
   ],
   "source": [
    "import pandas as pd\n",
    "from sklearn.model_selection import train_test_split\n",
    "from sklearn.preprocessing import LabelEncoder, StandardScaler\n",
    "\n",
    "# Load the Iris dataset (assuming you already have it loaded)\n",
    "from sklearn import datasets\n",
    "iris = datasets.load_iris()\n",
    "X = iris.data\n",
    "y = iris.target\n",
    "\n",
    "# Features (all four features in the Iris dataset)\n",
    "X_df = pd.DataFrame(data=X, columns=iris.feature_names)\n",
    "\n",
    "# Target (iris species)\n",
    "y_df = pd.DataFrame(data=y, columns=['species'])\n",
    "\n",
    "# Combine features and target into one DataFrame\n",
    "df = pd.concat([X_df, y_df], axis=1)\n",
    "\n",
    "# Splitting the dataset into 80% training and 20% test\n",
    "X_train, X_test, y_train, y_test = train_test_split(X, y, test_size=0.2, random_state=42)\n",
    "\n",
    "# Feature scaling\n",
    "scaler = StandardScaler()\n",
    "X_train = scaler.fit_transform(X_train)\n",
    "X_test = scaler.transform(X_test)\n",
    "\n",
    "print(\"Training set:\", X_train.shape, y_train.shape)\n",
    "print(\"Test set:\", X_test.shape, y_test.shape)\n"
   ]
  },
  {
   "cell_type": "markdown",
   "metadata": {},
   "source": [
    "'date': This column likely contains the date of the weather observation. While it might contain valuable information for time-series analysis, in the context of a general predictive model, it's often treated as an identifier rather than a feature.\n",
    "\n",
    "'weather': This column represents the weather condition (e.g., 'rain', 'drizzle'), which is the target variable in this context. It's what you're trying to predict, so it's excluded from the features and treated separately as the target variable y."
   ]
  },
  {
   "cell_type": "code",
   "execution_count": 16,
   "metadata": {},
   "outputs": [
    {
     "name": "stdout",
     "output_type": "stream",
     "text": [
      "Feature Importance Scores: {'sepal length (cm)': 0.10809762464246378, 'sepal width (cm)': 0.030386812473242528, 'petal length (cm)': 0.43999397414456937, 'petal width (cm)': 0.4215215887397244}\n"
     ]
    },
    {
     "data": {
      "image/png": "[encoded data removed]",
      "text/plain": [
       "<Figure size 640x480 with 1 Axes>"
      ]
     },
     "metadata": {},
     "output_type": "display_data"
    },
    {
     "name": "stdout",
     "output_type": "stream",
     "text": [
      "Best Five Features: ['petal length (cm)', 'petal width (cm)', 'sepal length (cm)', 'sepal width (cm)']\n"
     ]
    }
   ],
   "source": [
    "import pandas as pd\n",
    "from sklearn.model_selection import train_test_split\n",
    "from sklearn.ensemble import RandomForestClassifier\n",
    "import matplotlib.pyplot as plt\n",
    "\n",
    "# Load the Iris dataset (assuming you already have it loaded)\n",
    "from sklearn import datasets\n",
    "iris = datasets.load_iris()\n",
    "X = iris.data\n",
    "y = iris.target\n",
    "\n",
    "# Features (all four features in the Iris dataset)\n",
    "X_df = pd.DataFrame(data=X, columns=iris.feature_names)\n",
    "\n",
    "# Target (iris species)\n",
    "y_df = pd.DataFrame(data=y, columns=['species'])\n",
    "\n",
    "# Combine features and target into one DataFrame\n",
    "df = pd.concat([X_df, y_df], axis=1)\n",
    "\n",
    "# Splitting the dataset\n",
    "X_train, X_test, y_train, y_test = train_test_split(X, y, test_size=0.2, random_state=42)\n",
    "\n",
    "# Create a Random Forest Classifier\n",
    "model = RandomForestClassifier(random_state=42)\n",
    "model.fit(X_train, y_train)\n",
    "\n",
    "# Get feature importances\n",
    "importances = model.feature_importances_\n",
    "\n",
    "# Display feature importance scores\n",
    "feature_importance_dict = {name: score for name, score in zip(iris.feature_names, importances)}\n",
    "print(\"Feature Importance Scores:\", feature_importance_dict)\n",
    "\n",
    "# Plot feature importance\n",
    "plt.bar(iris.feature_names, importances)\n",
    "plt.title('Feature Importance')\n",
    "plt.xlabel('Features')\n",
    "plt.ylabel('Importance')\n",
    "plt.show()\n",
    "\n",
    "# Select the best five features\n",
    "best_five_features = sorted(feature_importance_dict, key=feature_importance_dict.get, reverse=True)[:5]\n",
    "print(\"Best Five Features:\", best_five_features)\n"
   ]
  },
  {
   "cell_type": "markdown",
   "metadata": {},
   "source": [
    "<H1>Information Gain</h1>"
   ]
  },
  {
   "cell_type": "code",
   "execution_count": 17,
   "metadata": {},
   "outputs": [
    {
     "name": "stdout",
     "output_type": "stream",
     "text": [
      "Feature: sepal length (cm), Information Gain: 0.0\n",
      "Feature: sepal width (cm), Information Gain: 0.014487251656875581\n",
      "Feature: petal length (cm), Information Gain: 0.8954057704812955\n",
      "Feature: petal width (cm), Information Gain: 0.09010697786182895\n"
     ]
    }
   ],
   "source": [
    "from sklearn.tree import DecisionTreeClassifier\n",
    "\n",
    "# Load the Iris dataset (assuming you already have it loaded)\n",
    "from sklearn import datasets\n",
    "iris = datasets.load_iris()\n",
    "X = iris.data\n",
    "y = iris.target\n",
    "\n",
    "# Features (all four features in the Iris dataset)\n",
    "X_df = pd.DataFrame(data=X, columns=iris.feature_names)\n",
    "\n",
    "# Target (iris species)\n",
    "y_df = pd.DataFrame(data=y, columns=['species'])\n",
    "\n",
    "# Combine features and target into one DataFrame\n",
    "df = pd.concat([X_df, y_df], axis=1)\n",
    "\n",
    "# Splitting the dataset\n",
    "X_train, X_test, y_train, y_test = train_test_split(X, y, test_size=0.2, random_state=42)\n",
    "\n",
    "# Create a Decision Tree Classifier with 'entropy' criterion\n",
    "tree_model = DecisionTreeClassifier(criterion='entropy', random_state=42)\n",
    "tree_model.fit(X_train, y_train)\n",
    "\n",
    "# Information Gain\n",
    "information_gain = tree_model.feature_importances_\n",
    "for feature, gain in zip(iris.feature_names, information_gain):\n",
    "    print(f\"Feature: {feature}, Information Gain: {gain}\")\n"
   ]
  },
  {
   "cell_type": "markdown",
   "metadata": {},
   "source": [
    "<h1> GINI Index</h1>"
   ]
  },
  {
   "cell_type": "code",
   "execution_count": 18,
   "metadata": {},
   "outputs": [
    {
     "name": "stdout",
     "output_type": "stream",
     "text": [
      "Feature: sepal length (cm), Gini Index: 0.0\n",
      "Feature: sepal width (cm), Gini Index: 0.016670139612419255\n",
      "Feature: petal length (cm), Gini Index: 0.9061433868879218\n",
      "Feature: petal width (cm), Gini Index: 0.07718647349965893\n"
     ]
    }
   ],
   "source": [
    "from sklearn.tree import DecisionTreeClassifier\n",
    "\n",
    "# Load the Iris dataset (assuming you already have it loaded)\n",
    "from sklearn import datasets\n",
    "iris = datasets.load_iris()\n",
    "X = iris.data\n",
    "y = iris.target\n",
    "\n",
    "# Features (all four features in the Iris dataset)\n",
    "X_df = pd.DataFrame(data=X, columns=iris.feature_names)\n",
    "\n",
    "# Target (iris species)\n",
    "y_df = pd.DataFrame(data=y, columns=['species'])\n",
    "\n",
    "# Combine features and target into one DataFrame\n",
    "df = pd.concat([X_df, y_df], axis=1)\n",
    "\n",
    "# Splitting the dataset\n",
    "X_train, X_test, y_train, y_test = train_test_split(X, y, test_size=0.2, random_state=42)\n",
    "\n",
    "# Create a Decision Tree Classifier with 'gini' criterion\n",
    "tree_model_gini = DecisionTreeClassifier(criterion='gini', random_state=42)\n",
    "tree_model_gini.fit(X_train, y_train)\n",
    "\n",
    "# Gini Index\n",
    "gini_index = tree_model_gini.feature_importances_\n",
    "for feature, gini in zip(iris.feature_names, gini_index):\n",
    "    print(f\"Feature: {feature}, Gini Index: {gini}\")\n"
   ]
  },
  {
   "cell_type": "markdown",
   "metadata": {},
   "source": [
    "<h1>CHI Square</h1>\n"
   ]
  },
  {
   "cell_type": "code",
   "execution_count": 19,
   "metadata": {},
   "outputs": [
    {
     "name": "stdout",
     "output_type": "stream",
     "text": [
      "Feature: sepal length (cm), Chi-Square Score: 9.314228685373218\n",
      "Feature: sepal width (cm), Chi-Square Score: 3.898105161389127\n",
      "Feature: petal length (cm), Chi-Square Score: 22.113728267144182\n",
      "Feature: petal width (cm), Chi-Square Score: 23.852854909318303\n"
     ]
    }
   ],
   "source": [
    "from sklearn.preprocessing import MinMaxScaler\n",
    "from sklearn.feature_selection import chi2  # Import chi2\n",
    "\n",
    "# Load the Iris dataset (assuming you already have it loaded)\n",
    "from sklearn import datasets\n",
    "iris = datasets.load_iris()\n",
    "X = iris.data\n",
    "y = iris.target\n",
    "\n",
    "# Features (all four features in the Iris dataset)\n",
    "X_df = pd.DataFrame(data=X, columns=iris.feature_names)\n",
    "\n",
    "# Target (iris species)\n",
    "y_df = pd.DataFrame(data=y, columns=['species'])\n",
    "\n",
    "# Combine features and target into one DataFrame\n",
    "df = pd.concat([X_df, y_df], axis=1)\n",
    "\n",
    "# Splitting the dataset\n",
    "X_train, X_test, y_train, y_test = train_test_split(X, y, test_size=0.2, random_state=42)\n",
    "\n",
    "# Feature scaling using Min-Max scaling\n",
    "scaler = MinMaxScaler()\n",
    "X_train_scaled = scaler.fit_transform(X_train)\n",
    "X_test_scaled = scaler.transform(X_test)\n",
    "\n",
    "# Compute Chi-Square scores\n",
    "chi2_scores, _ = chi2(X_train_scaled, y_train)\n",
    "for feature, chi in zip(iris.feature_names, chi2_scores):\n",
    "    print(f\"Feature: {feature}, Chi-Square Score: {chi}\")\n"
   ]
  },
  {
   "cell_type": "markdown",
   "metadata": {},
   "source": [
    "<h1>Pearson Correlation</h1>"
   ]
  },
  {
   "cell_type": "code",
   "execution_count": 20,
   "metadata": {},
   "outputs": [
    {
     "name": "stdout",
     "output_type": "stream",
     "text": [
      "Pearson's Correlation Matrix:\n",
      "                    sepal length (cm)  sepal width (cm)  petal length (cm)  \\\n",
      "sepal length (cm)           1.000000         -0.117570           0.871754   \n",
      "sepal width (cm)           -0.117570          1.000000          -0.428440   \n",
      "petal length (cm)           0.871754         -0.428440           1.000000   \n",
      "petal width (cm)            0.817941         -0.366126           0.962865   \n",
      "\n",
      "                   petal width (cm)  \n",
      "sepal length (cm)          0.817941  \n",
      "sepal width (cm)          -0.366126  \n",
      "petal length (cm)          0.962865  \n",
      "petal width (cm)           1.000000  \n"
     ]
    }
   ],
   "source": [
    "# Load the Iris dataset (assuming you already have it loaded)\n",
    "from sklearn import datasets\n",
    "iris = datasets.load_iris()\n",
    "X = iris.data\n",
    "\n",
    "# Features (all four features in the Iris dataset)\n",
    "X_df = pd.DataFrame(data=X, columns=iris.feature_names)\n",
    "\n",
    "# Calculate Pearson's Correlation Matrix\n",
    "pearson_corr = X_df.corr()\n",
    "\n",
    "# Print Pearson's Correlation Matrix\n",
    "print(\"Pearson's Correlation Matrix:\\n\", pearson_corr)\n"
   ]
  },
  {
   "cell_type": "markdown",
   "metadata": {},
   "source": [
    "<h1>Fisher Score</h1>   "
   ]
  },
  {
   "cell_type": "code",
   "execution_count": 21,
   "metadata": {},
   "outputs": [
    {
     "name": "stdout",
     "output_type": "stream",
     "text": [
      "Feature: sepal length (cm), Fisher's Score: 0.0589960982138418\n",
      "Feature: sepal width (cm), Fisher's Score: 0.057158386047196426\n",
      "Feature: petal length (cm), Fisher's Score: 0.7628609792612018\n",
      "Feature: petal width (cm), Fisher's Score: 0.5890268055629533\n"
     ]
    }
   ],
   "source": [
    "import numpy as np\n",
    "\n",
    "def fisher_score(X, y):\n",
    "    # Separate the data into two classes\n",
    "    X1 = X[y == 0]\n",
    "    X2 = X[y == 1]\n",
    "\n",
    "    # Compute the mean of each feature for each classA\n",
    "    mean1 = np.mean(X1, axis=0)\n",
    "    mean2 = np.mean(X2, axis=0)\n",
    "\n",
    "    # Compute the within-class scatter\n",
    "    s1 = np.sum((X1 - mean1) ** 2, axis=0)\n",
    "    s2 = np.sum((X2 - mean2) ** 2, axis=0)\n",
    "\n",
    "    # Compute the between-class scatter\n",
    "    s_b = (mean1 - mean2) ** 2\n",
    "\n",
    "    # Compute Fisher's Score\n",
    "    score = s_b / (s1 + s2)\n",
    "    return score\n",
    "\n",
    "# Compute Fisher's Score for the features\n",
    "fisher_scores = fisher_score(X_train, y_train)\n",
    "for feature, score in zip(X.columns, fisher_scores):\n",
    "    print(f\"Feature: {feature}, Fisher's Score: {score}\")\n"
   ]
  },
  {
   "cell_type": "code",
   "execution_count": null,
   "metadata": {},
   "outputs": [],
   "source": []
  }
 ],
 "metadata": {
  "kernelspec": {
   "display_name": "base",
   "language": "python",
   "name": "python3"
  },
  "language_info": {
   "codemirror_mode": {
    "name": "ipython",
    "version": 3
   },
   "file_extension": ".py",
   "mimetype": "text/x-python",
   "name": "python",
   "nbconvert_exporter": "python",
   "pygments_lexer": "ipython3",
   "version": "3.10.9"
  },
  "orig_nbformat": 4
 },
 "nbformat": 4,
 "nbformat_minor": 2
}
